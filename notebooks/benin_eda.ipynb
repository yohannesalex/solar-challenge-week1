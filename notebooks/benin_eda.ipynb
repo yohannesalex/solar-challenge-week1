{
 "cells": [
  {
   "cell_type": "markdown",
   "id": "33792400",
   "metadata": {},
   "source": [
    "# Exploratory Data Analysis (EDA) - Benin Dataset\n",
    "This notebook performs EDA: summary statistics, missing-value analysis, outlier detection, and basic cleaning."
   ]
  },
  {
   "cell_type": "code",
   "execution_count": 35,
   "id": "34e2c608",
   "metadata": {},
   "outputs": [],
   "source": [
    "# Import required libraries\n",
    "import pandas as pd\n",
    "import numpy as np\n",
    "from scipy import stats\n",
    "import os\n"
   ]
  },
  {
   "cell_type": "code",
   "execution_count": 29,
   "id": "a785f202",
   "metadata": {},
   "outputs": [
    {
     "data": {
      "text/html": [
       "<div>\n",
       "<style scoped>\n",
       "    .dataframe tbody tr th:only-of-type {\n",
       "        vertical-align: middle;\n",
       "    }\n",
       "\n",
       "    .dataframe tbody tr th {\n",
       "        vertical-align: top;\n",
       "    }\n",
       "\n",
       "    .dataframe thead th {\n",
       "        text-align: right;\n",
       "    }\n",
       "</style>\n",
       "<table border=\"1\" class=\"dataframe\">\n",
       "  <thead>\n",
       "    <tr style=\"text-align: right;\">\n",
       "      <th></th>\n",
       "      <th>Timestamp</th>\n",
       "      <th>GHI</th>\n",
       "      <th>DNI</th>\n",
       "      <th>DHI</th>\n",
       "      <th>ModA</th>\n",
       "      <th>ModB</th>\n",
       "      <th>Tamb</th>\n",
       "      <th>RH</th>\n",
       "      <th>WS</th>\n",
       "      <th>WSgust</th>\n",
       "      <th>WSstdev</th>\n",
       "      <th>WD</th>\n",
       "      <th>WDstdev</th>\n",
       "      <th>BP</th>\n",
       "      <th>Cleaning</th>\n",
       "      <th>Precipitation</th>\n",
       "      <th>TModA</th>\n",
       "      <th>TModB</th>\n",
       "      <th>Comments</th>\n",
       "    </tr>\n",
       "  </thead>\n",
       "  <tbody>\n",
       "    <tr>\n",
       "      <th>0</th>\n",
       "      <td>2021-08-09 00:01</td>\n",
       "      <td>-1.2</td>\n",
       "      <td>-0.2</td>\n",
       "      <td>-1.1</td>\n",
       "      <td>0.0</td>\n",
       "      <td>0.0</td>\n",
       "      <td>26.2</td>\n",
       "      <td>93.4</td>\n",
       "      <td>0.0</td>\n",
       "      <td>0.4</td>\n",
       "      <td>0.1</td>\n",
       "      <td>122.1</td>\n",
       "      <td>0.0</td>\n",
       "      <td>998</td>\n",
       "      <td>0</td>\n",
       "      <td>0.0</td>\n",
       "      <td>26.3</td>\n",
       "      <td>26.2</td>\n",
       "      <td>NaN</td>\n",
       "    </tr>\n",
       "    <tr>\n",
       "      <th>1</th>\n",
       "      <td>2021-08-09 00:02</td>\n",
       "      <td>-1.1</td>\n",
       "      <td>-0.2</td>\n",
       "      <td>-1.1</td>\n",
       "      <td>0.0</td>\n",
       "      <td>0.0</td>\n",
       "      <td>26.2</td>\n",
       "      <td>93.6</td>\n",
       "      <td>0.0</td>\n",
       "      <td>0.0</td>\n",
       "      <td>0.0</td>\n",
       "      <td>0.0</td>\n",
       "      <td>0.0</td>\n",
       "      <td>998</td>\n",
       "      <td>0</td>\n",
       "      <td>0.0</td>\n",
       "      <td>26.3</td>\n",
       "      <td>26.2</td>\n",
       "      <td>NaN</td>\n",
       "    </tr>\n",
       "    <tr>\n",
       "      <th>2</th>\n",
       "      <td>2021-08-09 00:03</td>\n",
       "      <td>-1.1</td>\n",
       "      <td>-0.2</td>\n",
       "      <td>-1.1</td>\n",
       "      <td>0.0</td>\n",
       "      <td>0.0</td>\n",
       "      <td>26.2</td>\n",
       "      <td>93.7</td>\n",
       "      <td>0.3</td>\n",
       "      <td>1.1</td>\n",
       "      <td>0.5</td>\n",
       "      <td>124.6</td>\n",
       "      <td>1.5</td>\n",
       "      <td>997</td>\n",
       "      <td>0</td>\n",
       "      <td>0.0</td>\n",
       "      <td>26.4</td>\n",
       "      <td>26.2</td>\n",
       "      <td>NaN</td>\n",
       "    </tr>\n",
       "    <tr>\n",
       "      <th>3</th>\n",
       "      <td>2021-08-09 00:04</td>\n",
       "      <td>-1.1</td>\n",
       "      <td>-0.1</td>\n",
       "      <td>-1.0</td>\n",
       "      <td>0.0</td>\n",
       "      <td>0.0</td>\n",
       "      <td>26.2</td>\n",
       "      <td>93.3</td>\n",
       "      <td>0.2</td>\n",
       "      <td>0.7</td>\n",
       "      <td>0.4</td>\n",
       "      <td>120.3</td>\n",
       "      <td>1.3</td>\n",
       "      <td>997</td>\n",
       "      <td>0</td>\n",
       "      <td>0.0</td>\n",
       "      <td>26.4</td>\n",
       "      <td>26.3</td>\n",
       "      <td>NaN</td>\n",
       "    </tr>\n",
       "    <tr>\n",
       "      <th>4</th>\n",
       "      <td>2021-08-09 00:05</td>\n",
       "      <td>-1.0</td>\n",
       "      <td>-0.1</td>\n",
       "      <td>-1.0</td>\n",
       "      <td>0.0</td>\n",
       "      <td>0.0</td>\n",
       "      <td>26.2</td>\n",
       "      <td>93.3</td>\n",
       "      <td>0.1</td>\n",
       "      <td>0.7</td>\n",
       "      <td>0.3</td>\n",
       "      <td>113.2</td>\n",
       "      <td>1.0</td>\n",
       "      <td>997</td>\n",
       "      <td>0</td>\n",
       "      <td>0.0</td>\n",
       "      <td>26.4</td>\n",
       "      <td>26.3</td>\n",
       "      <td>NaN</td>\n",
       "    </tr>\n",
       "  </tbody>\n",
       "</table>\n",
       "</div>"
      ],
      "text/plain": [
       "          Timestamp  GHI  DNI  DHI  ModA  ModB  Tamb    RH   WS  WSgust  \\\n",
       "0  2021-08-09 00:01 -1.2 -0.2 -1.1   0.0   0.0  26.2  93.4  0.0     0.4   \n",
       "1  2021-08-09 00:02 -1.1 -0.2 -1.1   0.0   0.0  26.2  93.6  0.0     0.0   \n",
       "2  2021-08-09 00:03 -1.1 -0.2 -1.1   0.0   0.0  26.2  93.7  0.3     1.1   \n",
       "3  2021-08-09 00:04 -1.1 -0.1 -1.0   0.0   0.0  26.2  93.3  0.2     0.7   \n",
       "4  2021-08-09 00:05 -1.0 -0.1 -1.0   0.0   0.0  26.2  93.3  0.1     0.7   \n",
       "\n",
       "   WSstdev     WD  WDstdev   BP  Cleaning  Precipitation  TModA  TModB  \\\n",
       "0      0.1  122.1      0.0  998         0            0.0   26.3   26.2   \n",
       "1      0.0    0.0      0.0  998         0            0.0   26.3   26.2   \n",
       "2      0.5  124.6      1.5  997         0            0.0   26.4   26.2   \n",
       "3      0.4  120.3      1.3  997         0            0.0   26.4   26.3   \n",
       "4      0.3  113.2      1.0  997         0            0.0   26.4   26.3   \n",
       "\n",
       "   Comments  \n",
       "0       NaN  \n",
       "1       NaN  \n",
       "2       NaN  \n",
       "3       NaN  \n",
       "4       NaN  "
      ]
     },
     "execution_count": 29,
     "metadata": {},
     "output_type": "execute_result"
    }
   ],
   "source": [
    "# Load Benin dataset\n",
    "df = pd.read_csv('../src/data/benin-malanville.csv')\n",
    "df.head()"
   ]
  },
  {
   "cell_type": "code",
   "execution_count": 30,
   "id": "f74565f6",
   "metadata": {},
   "outputs": [
    {
     "name": "stdout",
     "output_type": "stream",
     "text": [
      "Timestamp         object\n",
      "GHI              float64\n",
      "DNI              float64\n",
      "DHI              float64\n",
      "ModA             float64\n",
      "ModB             float64\n",
      "Tamb             float64\n",
      "RH               float64\n",
      "WS               float64\n",
      "WSgust           float64\n",
      "WSstdev          float64\n",
      "WD               float64\n",
      "WDstdev          float64\n",
      "BP                 int64\n",
      "Cleaning           int64\n",
      "Precipitation    float64\n",
      "TModA            float64\n",
      "TModB            float64\n",
      "Comments         float64\n",
      "dtype: object\n"
     ]
    }
   ],
   "source": [
    "# Summary statistics for numeric columns\n",
    "print(df.dtypes)"
   ]
  },
  {
   "cell_type": "markdown",
   "id": "f34a2d74",
   "metadata": {},
   "source": [
    "### Summary Statistics & Missing-Value Report\n"
   ]
  },
  {
   "cell_type": "code",
   "execution_count": 31,
   "id": "7e3cfbf3",
   "metadata": {},
   "outputs": [
    {
     "name": "stdout",
     "output_type": "stream",
     "text": [
      "Summary statistics:\n",
      "                  GHI            DNI            DHI           ModA  \\\n",
      "count  525600.000000  525600.000000  525600.000000  525600.000000   \n",
      "mean      240.559452     167.187516     115.358961     236.589496   \n",
      "std       331.131327     261.710501     158.691074     326.894859   \n",
      "min       -12.900000      -7.800000     -12.600000       0.000000   \n",
      "25%        -2.000000      -0.500000      -2.100000       0.000000   \n",
      "50%         1.800000      -0.100000       1.600000       4.500000   \n",
      "75%       483.400000     314.200000     216.300000     463.700000   \n",
      "max      1413.000000     952.300000     759.200000    1342.300000   \n",
      "\n",
      "                ModB           Tamb             RH             WS  \\\n",
      "count  525600.000000  525600.000000  525600.000000  525600.000000   \n",
      "mean      228.883576      28.179683      54.487969       2.121113   \n",
      "std       316.536515       5.924297      28.073069       1.603466   \n",
      "min         0.000000      11.000000       2.100000       0.000000   \n",
      "25%         0.000000      24.200000      28.800000       1.000000   \n",
      "50%         4.300000      28.000000      55.100000       1.900000   \n",
      "75%       447.900000      32.300000      80.100000       3.100000   \n",
      "max      1342.300000      43.800000     100.000000      19.500000   \n",
      "\n",
      "              WSgust        WSstdev             WD        WDstdev  \\\n",
      "count  525600.000000  525600.000000  525600.000000  525600.000000   \n",
      "mean        2.809195       0.473390     153.435172       8.582407   \n",
      "std         2.029120       0.273395     102.332842       6.385864   \n",
      "min         0.000000       0.000000       0.000000       0.000000   \n",
      "25%         1.300000       0.400000      59.000000       3.700000   \n",
      "50%         2.600000       0.500000     181.000000       8.600000   \n",
      "75%         4.100000       0.600000     235.100000      12.300000   \n",
      "max        26.600000       4.200000     360.000000      99.400000   \n",
      "\n",
      "                  BP       Cleaning  Precipitation          TModA  \\\n",
      "count  525600.000000  525600.000000  525600.000000  525600.000000   \n",
      "mean      994.197199       0.000923       0.001905      35.246026   \n",
      "std         2.474993       0.030363       0.037115      14.807258   \n",
      "min       985.000000       0.000000       0.000000       9.000000   \n",
      "25%       993.000000       0.000000       0.000000      24.200000   \n",
      "50%       994.000000       0.000000       0.000000      30.000000   \n",
      "75%       996.000000       0.000000       0.000000      46.900000   \n",
      "max      1003.000000       1.000000       2.500000      81.000000   \n",
      "\n",
      "               TModB  Comments  \n",
      "count  525600.000000       0.0  \n",
      "mean       32.471736       NaN  \n",
      "std        12.348743       NaN  \n",
      "min         8.100000       NaN  \n",
      "25%        23.600000       NaN  \n",
      "50%        28.900000       NaN  \n",
      "75%        41.500000       NaN  \n",
      "max        72.500000       NaN  \n"
     ]
    }
   ],
   "source": [
    "summary_stats = df.describe()\n",
    "print(\"Summary statistics:\\n\", summary_stats)\n"
   ]
  },
  {
   "cell_type": "code",
   "execution_count": 32,
   "id": "896233be",
   "metadata": {},
   "outputs": [
    {
     "name": "stdout",
     "output_type": "stream",
     "text": [
      "\n",
      "Missing‐value counts:\n",
      " Timestamp             0\n",
      "GHI                   0\n",
      "DNI                   0\n",
      "DHI                   0\n",
      "ModA                  0\n",
      "ModB                  0\n",
      "Tamb                  0\n",
      "RH                    0\n",
      "WS                    0\n",
      "WSgust                0\n",
      "WSstdev               0\n",
      "WD                    0\n",
      "WDstdev               0\n",
      "BP                    0\n",
      "Cleaning              0\n",
      "Precipitation         0\n",
      "TModA                 0\n",
      "TModB                 0\n",
      "Comments         525600\n",
      "dtype: int64\n"
     ]
    }
   ],
   "source": [
    "\n",
    "# 2. Count of missing values per column\n",
    "missing_counts = df.isna().sum()\n",
    "print(\"\\nMissing‐value counts:\\n\", missing_counts)\n"
   ]
  },
  {
   "cell_type": "code",
   "execution_count": 33,
   "id": "5fd03655",
   "metadata": {},
   "outputs": [
    {
     "name": "stdout",
     "output_type": "stream",
     "text": [
      "\n",
      "Missing‐value percentages:\n",
      " Timestamp          0.0\n",
      "GHI                0.0\n",
      "DNI                0.0\n",
      "DHI                0.0\n",
      "ModA               0.0\n",
      "ModB               0.0\n",
      "Tamb               0.0\n",
      "RH                 0.0\n",
      "WS                 0.0\n",
      "WSgust             0.0\n",
      "WSstdev            0.0\n",
      "WD                 0.0\n",
      "WDstdev            0.0\n",
      "BP                 0.0\n",
      "Cleaning           0.0\n",
      "Precipitation      0.0\n",
      "TModA              0.0\n",
      "TModB              0.0\n",
      "Comments         100.0\n",
      "dtype: float64\n"
     ]
    }
   ],
   "source": [
    "# 3. Percentage of missing values per column\n",
    "missing_percent = (missing_counts / len(df)) * 100\n",
    "print(\"\\nMissing‐value percentages:\\n\", missing_percent.round(2))\n"
   ]
  },
  {
   "cell_type": "code",
   "execution_count": 34,
   "id": "6125e88b",
   "metadata": {},
   "outputs": [
    {
     "name": "stdout",
     "output_type": "stream",
     "text": [
      "\n",
      "Columns with more than 5% missing:  ['Comments']\n"
     ]
    }
   ],
   "source": [
    "cols_over_5pct = missing_percent[missing_percent > 5].index.tolist()\n",
    "print(\"\\nColumns with more than 5% missing: \", cols_over_5pct)\n"
   ]
  },
  {
   "cell_type": "markdown",
   "id": "a2afe9f9",
   "metadata": {},
   "source": [
    "### Outlier Detection & Basic Cleaning\n"
   ]
  },
  {
   "cell_type": "code",
   "execution_count": 43,
   "id": "c41ba294",
   "metadata": {},
   "outputs": [],
   "source": [
    "COUNTRY         = \"benin\"             # used for naming the output file\n",
    "OUTLIER_THRESH  = 3.0                    # Z-score threshold\n",
    "DROP_OUTLIERS   = False                  # set True to remove flagged rows\n"
   ]
  },
  {
   "cell_type": "code",
   "execution_count": 40,
   "id": "6357d178",
   "metadata": {},
   "outputs": [],
   "source": [
    "# 3. Columns to analyze\n",
    "sensor_cols = [\"GHI\", \"DNI\", \"DHI\", \"ModA\", \"ModB\", \"WS\", \"WSgust\"]\n",
    "\n",
    "# 4. Compute medians for imputation and fillna for Z-score calc\n",
    "medians = df[sensor_cols].median()\n",
    "filled_for_z = df[sensor_cols].fillna(medians)\n",
    "\n"
   ]
  },
  {
   "cell_type": "code",
   "execution_count": 41,
   "id": "32c2d5fb",
   "metadata": {},
   "outputs": [
    {
     "name": "stdout",
     "output_type": "stream",
     "text": [
      "Flagged 7740 outliers out of 525600 total rows.\n"
     ]
    }
   ],
   "source": [
    "\n",
    "# 5. Compute Z-scores and flag outliers\n",
    "z_scores = stats.zscore(filled_for_z)\n",
    "abs_z    = pd.DataFrame(abs(z_scores), columns=sensor_cols, index=df.index)\n",
    "df[\"is_outlier\"] = abs_z.gt(OUTLIER_THRESH).any(axis=1)\n",
    "\n",
    "print(f\"Flagged {df['is_outlier'].sum()} outliers out of {len(df)} total rows.\")\n"
   ]
  },
  {
   "cell_type": "code",
   "execution_count": 42,
   "id": "d8ab4c1f",
   "metadata": {},
   "outputs": [],
   "source": [
    "# 6. Impute missing values (median) without chained assignment\n",
    "for col in sensor_cols:\n",
    "    df[col] = df[col].fillna(medians[col])\n",
    "\n"
   ]
  },
  {
   "cell_type": "code",
   "execution_count": 44,
   "id": "82819d08",
   "metadata": {},
   "outputs": [
    {
     "name": "stdout",
     "output_type": "stream",
     "text": [
      "Cleaned data written to: data/benin_clean.csv\n"
     ]
    }
   ],
   "source": [
    "\n",
    "# 8. Export cleaned data\n",
    "os.makedirs(\"data\", exist_ok=True)\n",
    "out_path = f\"data/{COUNTRY}_clean.csv\"\n",
    "df.to_csv(out_path, index=False)\n",
    "print(f\"Cleaned data written to: {out_path}\")\n"
   ]
  }
 ],
 "metadata": {
  "kernelspec": {
   "display_name": ".venv",
   "language": "python",
   "name": "python3"
  },
  "language_info": {
   "codemirror_mode": {
    "name": "ipython",
    "version": 3
   },
   "file_extension": ".py",
   "mimetype": "text/x-python",
   "name": "python",
   "nbconvert_exporter": "python",
   "pygments_lexer": "ipython3",
   "version": "3.12.3"
  }
 },
 "nbformat": 4,
 "nbformat_minor": 5
}
